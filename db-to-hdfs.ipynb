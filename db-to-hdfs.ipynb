{
 "cells": [
  {
   "cell_type": "code",
   "execution_count": 19,
   "metadata": {},
   "outputs": [],
   "source": [
    "from pyspark.sql import SparkSession\n",
    "\n",
    "spark = SparkSession.builder.getOrCreate()"
   ]
  },
  {
   "cell_type": "code",
   "execution_count": 20,
   "metadata": {},
   "outputs": [
    {
     "data": {
      "text/html": [
       "\n",
       "        <div>\n",
       "            <p><b>SparkContext</b></p>\n",
       "\n",
       "            <p><a href=\"http://192.168.1.118:4040\">Spark UI</a></p>\n",
       "\n",
       "            <dl>\n",
       "              <dt>Version</dt>\n",
       "                <dd><code>v2.2.0</code></dd>\n",
       "              <dt>Master</dt>\n",
       "                <dd><code>local[*]</code></dd>\n",
       "              <dt>AppName</dt>\n",
       "                <dd><code>PySparkShell</code></dd>\n",
       "            </dl>\n",
       "        </div>\n",
       "        "
      ],
      "text/plain": [
       "<SparkContext master=local[*] appName=PySparkShell>"
      ]
     },
     "execution_count": 20,
     "metadata": {},
     "output_type": "execute_result"
    }
   ],
   "source": [
    "sc"
   ]
  },
  {
   "cell_type": "code",
   "execution_count": 21,
   "metadata": {
    "collapsed": true
   },
   "outputs": [],
   "source": [
    "jdbcDF = sqlContext.read.format(\"jdbc\").options(url = \"jdbc:postgresql://123.39.122.62:5432/ezysloads?user=xyz&password=ezyloadspasswprd\",database='db',dbtable='tcompany').load()"
   ]
  },
  {
   "cell_type": "code",
   "execution_count": null,
   "metadata": {},
   "outputs": [],
   "source": [
    "jdbcDF.write.save('company1', format='csv', mode='append')"
   ]
  },
  {
   "cell_type": "code",
   "execution_count": null,
   "metadata": {},
   "outputs": [],
   "source": [
    "df=sqlContext.read.parquet('hdfs://localhost:9000/user/company')"
   ]
  },
  {
   "cell_type": "code",
   "execution_count": 22,
   "metadata": {},
   "outputs": [
    {
     "name": "stdout",
     "output_type": "stream",
     "text": [
      "+---+------------+-------+---------------+----+--------------+----+-----+-------+------+------------+-------+--------------------+------------+------+-----------------+-------+----+\n",
      "| id|company_name|website|company_emailid|logo|street_address|city|state|pincode|status|businesstype|role_id|          time_stamp|phone_mobile|branch|master_company_id|pancard| gst|\n",
      "+---+------------+-------+---------------+----+--------------+----+-----+-------+------+------------+-------+--------------------+------------+------+-----------------+-------+----+\n",
      "|  3|      deepak|   null|           null|null|          null|null| null|   null|Active|  Individual|      1|java.util.Gregori...|        null|  null|                1|   null|null|\n",
      "+---+------------+-------+---------------+----+--------------+----+-----+-------+------+------------+-------+--------------------+------------+------+-----------------+-------+----+\n",
      "only showing top 1 row\n",
      "\n"
     ]
    }
   ],
   "source": [
    "df.show(1)"
   ]
  },
  {
   "cell_type": "code",
   "execution_count": null,
   "metadata": {},
   "outputs": [],
   "source": [
    "df.limit(1)"
   ]
  },
  {
   "cell_type": "code",
   "execution_count": null,
   "metadata": {
    "collapsed": true
   },
   "outputs": [],
   "source": [
    "df.createOrReplaceTempView(\"company\")"
   ]
  },
  {
   "cell_type": "code",
   "execution_count": null,
   "metadata": {},
   "outputs": [],
   "source": [
    "df5 = spark.sql(\"SELECT * FROM company ORDER BY id desc limit 1\").show()"
   ]
  },
  {
   "cell_type": "code",
   "execution_count": null,
   "metadata": {},
   "outputs": [],
   "source": []
  },
  {
   "cell_type": "code",
   "execution_count": null,
   "metadata": {
    "collapsed": true
   },
   "outputs": [],
   "source": []
  },
  {
   "cell_type": "code",
   "execution_count": null,
   "metadata": {},
   "outputs": [],
   "source": [
    "jdbcDF.show(3)"
   ]
  },
  {
   "cell_type": "code",
   "execution_count": 23,
   "metadata": {},
   "outputs": [
    {
     "name": "stdout",
     "output_type": "stream",
     "text": [
      "root\n",
      " |-- id: integer (nullable = false)\n",
      " |-- company_name: string (nullable = true)\n",
      " |-- website: string (nullable = true)\n",
      " |-- company_emailid: string (nullable = true)\n",
      " |-- logo: binary (nullable = true)\n",
      " |-- street_address: string (nullable = true)\n",
      " |-- city: string (nullable = true)\n",
      " |-- state: string (nullable = true)\n",
      " |-- pincode: string (nullable = true)\n",
      " |-- status: string (nullable = true)\n",
      " |-- businesstype: string (nullable = true)\n",
      " |-- role_id: integer (nullable = false)\n",
      " |-- time_stamp: timestamp (nullable = true)\n",
      " |-- phone_mobile: string (nullable = true)\n",
      " |-- branch: string (nullable = true)\n",
      " |-- master_company_id: integer (nullable = true)\n",
      " |-- pancard: string (nullable = true)\n",
      " |-- gst: string (nullable = true)\n",
      "\n"
     ]
    }
   ],
   "source": [
    "jdbcDF.printSchema()"
   ]
  },
  {
   "cell_type": "code",
   "execution_count": 24,
   "metadata": {
    "collapsed": true
   },
   "outputs": [],
   "source": [
    "from pyspark.sql import SQLContext"
   ]
  },
  {
   "cell_type": "code",
   "execution_count": 25,
   "metadata": {
    "collapsed": true
   },
   "outputs": [],
   "source": [
    "sqlc=SQLContext(sc)"
   ]
  },
  {
   "cell_type": "code",
   "execution_count": 26,
   "metadata": {
    "collapsed": true
   },
   "outputs": [],
   "source": [
    "rdd = jdbcDF.rdd"
   ]
  },
  {
   "cell_type": "code",
   "execution_count": 27,
   "metadata": {},
   "outputs": [
    {
     "data": {
      "text/plain": [
       "[Row(id=3, company_name='deepak', website=None, company_emailid=None, logo=None, street_address=None, city=None, state=None, pincode=None, status='Active', businesstype='Individual', role_id=1, time_stamp=datetime.datetime(2017, 10, 26, 17, 29, 23, 441191), phone_mobile=None, branch=None, master_company_id=1, pancard=None, gst=None),\n",
       " Row(id=4, company_name='deepak', website=None, company_emailid=None, logo=None, street_address=None, city=None, state=None, pincode=None, status='Active', businesstype='Individual', role_id=1, time_stamp=datetime.datetime(2017, 10, 27, 14, 53, 40, 687912), phone_mobile=None, branch=None, master_company_id=None, pancard=None, gst=None),\n",
       " Row(id=5, company_name='ola', website=None, company_emailid=None, logo=None, street_address=None, city=None, state=None, pincode=None, status='Active', businesstype='Corporate', role_id=1, time_stamp=datetime.datetime(2017, 10, 27, 14, 57, 8, 58712), phone_mobile=None, branch=None, master_company_id=None, pancard=None, gst=None),\n",
       " Row(id=6, company_name='ra', website=None, company_emailid=None, logo=None, street_address=None, city=None, state=None, pincode=None, status='Active', businesstype='Corporate', role_id=2, time_stamp=datetime.datetime(2017, 10, 27, 15, 30, 14, 167223), phone_mobile=None, branch=None, master_company_id=None, pancard=None, gst=None),\n",
       " Row(id=7, company_name='raj', website=None, company_emailid=None, logo=None, street_address=None, city=None, state=None, pincode=None, status='Active', businesstype='Corporate', role_id=1, time_stamp=datetime.datetime(2017, 10, 28, 11, 36, 29, 744224), phone_mobile=None, branch=None, master_company_id=None, pancard=None, gst=None),\n",
       " Row(id=8, company_name='ffdf', website=None, company_emailid=None, logo=None, street_address=None, city=None, state=None, pincode=None, status='Active', businesstype='Individual', role_id=1, time_stamp=datetime.datetime(2017, 10, 28, 11, 45, 54, 484208), phone_mobile=None, branch=None, master_company_id=None, pancard=None, gst=None),\n",
       " Row(id=9, company_name='postgres', website=None, company_emailid=None, logo=None, street_address=None, city=None, state=None, pincode=None, status='Active', businesstype='Corporate', role_id=2, time_stamp=datetime.datetime(2017, 10, 30, 12, 17, 12, 892596), phone_mobile=None, branch=None, master_company_id=None, pancard=None, gst=None),\n",
       " Row(id=10, company_name='priyanka carrier company', website=None, company_emailid=None, logo=None, street_address=None, city=None, state=None, pincode=None, status='Active', businesstype='Corporate', role_id=2, time_stamp=datetime.datetime(2017, 10, 31, 11, 8, 19, 475225), phone_mobile=None, branch=None, master_company_id=None, pancard=None, gst=None),\n",
       " Row(id=11, company_name='asd', website=None, company_emailid=None, logo=None, street_address=None, city=None, state=None, pincode=None, status='Active', businesstype='Corporate', role_id=1, time_stamp=datetime.datetime(2017, 10, 31, 15, 20, 46, 494319), phone_mobile=None, branch=None, master_company_id=None, pancard=None, gst=None),\n",
       " Row(id=12, company_name='tap', website=None, company_emailid=None, logo=None, street_address=None, city=None, state=None, pincode=None, status='Active', businesstype='Corporate', role_id=2, time_stamp=datetime.datetime(2017, 11, 2, 12, 26, 17, 740529), phone_mobile=None, branch=None, master_company_id=None, pancard=None, gst=None),\n",
       " Row(id=13, company_name='Sushma', website=None, company_emailid=None, logo=None, street_address=None, city=None, state=None, pincode=None, status='Active', businesstype='Corporate', role_id=1, time_stamp=datetime.datetime(2017, 11, 17, 17, 43, 34, 518125), phone_mobile=None, branch=None, master_company_id=None, pancard=None, gst=None),\n",
       " Row(id=14, company_name='abc transport', website=None, company_emailid=None, logo=None, street_address=None, city=None, state=None, pincode=None, status='Active', businesstype='Corporate', role_id=2, time_stamp=datetime.datetime(2017, 11, 20, 10, 43, 43, 72537), phone_mobile=None, branch=None, master_company_id=None, pancard=None, gst=None),\n",
       " Row(id=2, company_name='Ezyloads', website='postgres.in', company_emailid='vikas@postgresindia.com', logo=None, street_address='postgres', city='bangalore', state='karnataka', pincode='576215', status='Active', businesstype='Corporate', role_id=1, time_stamp=datetime.datetime(2017, 10, 26, 13, 47, 31, 513311), phone_mobile='9535591744', branch=None, master_company_id=2, pancard=None, gst=None),\n",
       " Row(id=15, company_name='ra', website=None, company_emailid=None, logo=None, street_address=None, city=None, state=None, pincode=None, status='Active', businesstype='Corporate', role_id=1, time_stamp=datetime.datetime(2017, 11, 24, 6, 1, 56, 580471), phone_mobile=None, branch=None, master_company_id=None, pancard=None, gst=None),\n",
       " Row(id=16, company_name='RD Transport', website=None, company_emailid=None, logo=None, street_address=None, city=None, state=None, pincode=None, status='Active', businesstype='Corporate', role_id=2, time_stamp=datetime.datetime(2017, 11, 26, 6, 46, 21, 404927), phone_mobile=None, branch=None, master_company_id=None, pancard=None, gst=None),\n",
       " Row(id=17, company_name='', website=None, company_emailid=None, logo=None, street_address=None, city=None, state=None, pincode=None, status='Active', businesstype='Corporate', role_id=2, time_stamp=datetime.datetime(2017, 11, 26, 21, 20, 17, 992117), phone_mobile=None, branch=None, master_company_id=None, pancard=None, gst=None),\n",
       " Row(id=18, company_name='Ezyloads Logistics Pvt. Ltd.', website=None, company_emailid=None, logo=None, street_address=None, city=None, state=None, pincode=None, status='Active', businesstype='Corporate', role_id=2, time_stamp=datetime.datetime(2017, 11, 26, 21, 49, 12, 705518), phone_mobile=None, branch=None, master_company_id=None, pancard=None, gst=None),\n",
       " Row(id=19, company_name='danajay', website=None, company_emailid=None, logo=None, street_address=None, city=None, state=None, pincode=None, status='Active', businesstype='Individual', role_id=1, time_stamp=datetime.datetime(2017, 11, 27, 13, 22, 10, 105378), phone_mobile=None, branch=None, master_company_id=None, pancard=None, gst=None),\n",
       " Row(id=20, company_name='veena', website=None, company_emailid=None, logo=None, street_address=None, city=None, state=None, pincode=None, status='Active', businesstype='Corporate', role_id=1, time_stamp=datetime.datetime(2017, 11, 27, 13, 32, 49, 634572), phone_mobile=None, branch=None, master_company_id=None, pancard=None, gst=None),\n",
       " Row(id=21, company_name='Ragu', website=None, company_emailid=None, logo=None, street_address=None, city=None, state=None, pincode=None, status='Active', businesstype='Individual', role_id=2, time_stamp=datetime.datetime(2017, 11, 30, 20, 6, 15, 560471), phone_mobile=None, branch=None, master_company_id=None, pancard=None, gst=None),\n",
       " Row(id=22, company_name='Sriji', website=None, company_emailid=None, logo=None, street_address=None, city=None, state=None, pincode=None, status='Active', businesstype='Corporate', role_id=1, time_stamp=datetime.datetime(2017, 12, 4, 10, 59, 50, 910121), phone_mobile=None, branch=None, master_company_id=None, pancard=None, gst=None),\n",
       " Row(id=23, company_name='123 carrier', website=None, company_emailid=None, logo=None, street_address=None, city=None, state=None, pincode=None, status='Active', businesstype='Corporate', role_id=2, time_stamp=datetime.datetime(2017, 12, 4, 11, 6, 47, 660734), phone_mobile=None, branch=None, master_company_id=None, pancard=None, gst=None),\n",
       " Row(id=24, company_name='Kalpesh', website=None, company_emailid=None, logo=None, street_address=None, city=None, state=None, pincode=None, status='Active', businesstype='Individual', role_id=2, time_stamp=datetime.datetime(2017, 12, 7, 11, 14, 30, 300745), phone_mobile=None, branch=None, master_company_id=None, pancard=None, gst=None),\n",
       " Row(id=25, company_name='Ezyloads Logistics', website=None, company_emailid=None, logo=None, street_address=None, city=None, state=None, pincode=None, status='Active', businesstype='Corporate', role_id=2, time_stamp=datetime.datetime(2017, 12, 8, 11, 1, 59, 397023), phone_mobile=None, branch=None, master_company_id=None, pancard=None, gst=None),\n",
       " Row(id=26, company_name='Ezyloads Logistics Pvt Ltd', website=None, company_emailid=None, logo=None, street_address=None, city=None, state=None, pincode=None, status='Active', businesstype='Corporate', role_id=2, time_stamp=datetime.datetime(2017, 12, 8, 12, 6, 40, 61358), phone_mobile=None, branch=None, master_company_id=None, pancard=None, gst=None),\n",
       " Row(id=27, company_name='Om Shakthi hydraulics pvt ltd', website=None, company_emailid=None, logo=None, street_address=None, city=None, state=None, pincode=None, status='Active', businesstype='Corporate', role_id=1, time_stamp=datetime.datetime(2017, 12, 12, 12, 48, 37, 712029), phone_mobile=None, branch=None, master_company_id=None, pancard=None, gst=None),\n",
       " Row(id=28, company_name='ABC', website=None, company_emailid=None, logo=None, street_address=None, city=None, state=None, pincode=None, status='Active', businesstype='Corporate', role_id=1, time_stamp=datetime.datetime(2017, 12, 12, 13, 15, 1, 802011), phone_mobile=None, branch=None, master_company_id=None, pancard=None, gst=None),\n",
       " Row(id=29, company_name='Anand transport', website=None, company_emailid=None, logo=None, street_address=None, city=None, state=None, pincode=None, status='Active', businesstype='Corporate', role_id=2, time_stamp=datetime.datetime(2017, 12, 12, 16, 22, 39, 362964), phone_mobile=None, branch=None, master_company_id=None, pancard=None, gst=None),\n",
       " Row(id=30, company_name='Cdcfdsf', website=None, company_emailid=None, logo=None, street_address=None, city=None, state=None, pincode=None, status='Pending', businesstype='Corporate', role_id=2, time_stamp=datetime.datetime(2017, 12, 14, 11, 2, 37, 302084), phone_mobile=None, branch=None, master_company_id=None, pancard=None, gst=None),\n",
       " Row(id=31, company_name='Jhuihxuhwuxuoa', website=None, company_emailid=None, logo=None, street_address=None, city=None, state=None, pincode=None, status='Pending', businesstype='Corporate', role_id=1, time_stamp=datetime.datetime(2017, 12, 19, 10, 56, 31, 904031), phone_mobile=None, branch=None, master_company_id=None, pancard=None, gst=None),\n",
       " Row(id=32, company_name='111', website=None, company_emailid=None, logo=None, street_address=None, city=None, state=None, pincode=None, status='Pending', businesstype='Corporate', role_id=2, time_stamp=datetime.datetime(2017, 12, 19, 11, 24, 6, 49837), phone_mobile=None, branch=None, master_company_id=None, pancard=None, gst=None),\n",
       " Row(id=33, company_name='Fdhdfh', website=None, company_emailid=None, logo=None, street_address=None, city=None, state=None, pincode=None, status='Pending', businesstype='Corporate', role_id=1, time_stamp=datetime.datetime(2017, 12, 19, 11, 40, 59, 793536), phone_mobile=None, branch=None, master_company_id=None, pancard=None, gst=None),\n",
       " Row(id=34, company_name='Rttttttttttttttttttttttttttttttttttttttttttttttttttttttttttttttttttttttttttt', website=None, company_emailid=None, logo=None, street_address=None, city=None, state=None, pincode=None, status='Pending', businesstype='Corporate', role_id=1, time_stamp=datetime.datetime(2017, 12, 19, 12, 4, 49, 806040), phone_mobile=None, branch=None, master_company_id=None, pancard=None, gst=None),\n",
       " Row(id=35, company_name='Sonal Garments', website=None, company_emailid=None, logo=None, street_address=None, city=None, state=None, pincode=None, status='Pending', businesstype='Corporate', role_id=1, time_stamp=datetime.datetime(2017, 12, 19, 12, 11, 56, 219876), phone_mobile=None, branch=None, master_company_id=None, pancard=None, gst=None),\n",
       " Row(id=36, company_name='BalamuruganLogistics', website=None, company_emailid=None, logo=None, street_address=None, city=None, state=None, pincode=None, status='Pending', businesstype='Individual', role_id=2, time_stamp=datetime.datetime(2017, 12, 19, 20, 20, 35, 775017), phone_mobile=None, branch=None, master_company_id=None, pancard=None, gst=None),\n",
       " Row(id=37, company_name='Sreeji', website=None, company_emailid=None, logo=None, street_address=None, city=None, state=None, pincode=None, status='Pending', businesstype='Corporate', role_id=2, time_stamp=datetime.datetime(2017, 12, 20, 11, 2, 26, 96270), phone_mobile=None, branch=None, master_company_id=None, pancard=None, gst=None),\n",
       " Row(id=38, company_name='Akash logistics', website=None, company_emailid=None, logo=None, street_address=None, city=None, state=None, pincode=None, status='Pending', businesstype='Corporate', role_id=2, time_stamp=datetime.datetime(2017, 12, 20, 11, 57, 54, 765613), phone_mobile=None, branch=None, master_company_id=None, pancard=None, gst=None),\n",
       " Row(id=39, company_name='Kishore', website=None, company_emailid=None, logo=None, street_address=None, city=None, state=None, pincode=None, status='Pending', businesstype='Corporate', role_id=2, time_stamp=datetime.datetime(2017, 12, 20, 14, 47, 5, 195418), phone_mobile=None, branch=None, master_company_id=None, pancard=None, gst=None)]"
      ]
     },
     "execution_count": 27,
     "metadata": {},
     "output_type": "execute_result"
    }
   ],
   "source": [
    "rdd.collect()"
   ]
  },
  {
   "cell_type": "code",
   "execution_count": 8,
   "metadata": {
    "collapsed": true
   },
   "outputs": [],
   "source": [
    "x=rdd.toDF(sampleRatio=0.8)"
   ]
  },
  {
   "cell_type": "code",
   "execution_count": 9,
   "metadata": {},
   "outputs": [
    {
     "name": "stdout",
     "output_type": "stream",
     "text": [
      "+---+------------+-------+---------------+----+--------------+----+-----+-------+------+------------+-------+--------------------+------------+------+-----------------+-------+----+\n",
      "| id|company_name|website|company_emailid|logo|street_address|city|state|pincode|status|businesstype|role_id|          time_stamp|phone_mobile|branch|master_company_id|pancard| gst|\n",
      "+---+------------+-------+---------------+----+--------------+----+-----+-------+------+------------+-------+--------------------+------------+------+-----------------+-------+----+\n",
      "|  3|      deepak|   null|           null|null|          null|null| null|   null|Active|  Individual|      1|2017-10-26 17:29:...|        null|  null|                1|   null|null|\n",
      "|  4|      deepak|   null|           null|null|          null|null| null|   null|Active|  Individual|      1|2017-10-27 14:53:...|        null|  null|             null|   null|null|\n",
      "+---+------------+-------+---------------+----+--------------+----+-----+-------+------+------------+-------+--------------------+------------+------+-----------------+-------+----+\n",
      "only showing top 2 rows\n",
      "\n"
     ]
    }
   ],
   "source": [
    "x.show(2)"
   ]
  },
  {
   "cell_type": "code",
   "execution_count": 28,
   "metadata": {},
   "outputs": [],
   "source": [
    "from pyspark.sql.types import StructType, StructField, IntegerType, StringType\n",
    "\n",
    "schema = StructType([StructField(\"id\", IntegerType(), True), StructField(\"company_name\", StringType(), True),StructField(\"website\", StringType(), True),StructField(\"company_emailid\", StringType(), True),StructField(\"logo\", StringType(), True),StructField(\"street_address\", StringType(), True),StructField(\"city\", StringType(), True),StructField(\"state\", StringType(), True),StructField(\"pincode\", StringType(), True),StructField(\"status\", StringType(), True),StructField(\"businesstype\", StringType(), True),StructField(\"role_id\", StringType(), True),StructField(\"time_stamp\", StringType(), True),StructField(\"phone_mobile\", StringType(), True),StructField(\"branch\", StringType(), True),StructField(\"master_company_id\", IntegerType(), True),StructField(\"pancard\", StringType(), True),StructField(\"gst\", StringType(), True)\n",
    "])"
   ]
  },
  {
   "cell_type": "code",
   "execution_count": 29,
   "metadata": {},
   "outputs": [],
   "source": [
    "df = spark.createDataFrame(rdd, schema)"
   ]
  },
  {
   "cell_type": "code",
   "execution_count": 30,
   "metadata": {},
   "outputs": [
    {
     "name": "stdout",
     "output_type": "stream",
     "text": [
      "+---+--------------------+-----------+--------------------+----+--------------+---------+---------+-------+------+------------+-------+--------------------+------------+------+-----------------+-------+----+\n",
      "| id|        company_name|    website|     company_emailid|logo|street_address|     city|    state|pincode|status|businesstype|role_id|          time_stamp|phone_mobile|branch|master_company_id|pancard| gst|\n",
      "+---+--------------------+-----------+--------------------+----+--------------+---------+---------+-------+------+------------+-------+--------------------+------------+------+-----------------+-------+----+\n",
      "|  3|              deepak|       null|                null|null|          null|     null|     null|   null|Active|  Individual|      1|java.util.Gregori...|        null|  null|                1|   null|null|\n",
      "|  4|              deepak|       null|                null|null|          null|     null|     null|   null|Active|  Individual|      1|java.util.Gregori...|        null|  null|             null|   null|null|\n",
      "|  5|                 ola|       null|                null|null|          null|     null|     null|   null|Active|   Corporate|      1|java.util.Gregori...|        null|  null|             null|   null|null|\n",
      "|  6|                  ra|       null|                null|null|          null|     null|     null|   null|Active|   Corporate|      2|java.util.Gregori...|        null|  null|             null|   null|null|\n",
      "|  7|                 raj|       null|                null|null|          null|     null|     null|   null|Active|   Corporate|      1|java.util.Gregori...|        null|  null|             null|   null|null|\n",
      "|  8|                ffdf|       null|                null|null|          null|     null|     null|   null|Active|  Individual|      1|java.util.Gregori...|        null|  null|             null|   null|null|\n",
      "|  9|            postgres|       null|                null|null|          null|     null|     null|   null|Active|   Corporate|      2|java.util.Gregori...|        null|  null|             null|   null|null|\n",
      "| 10|priyanka carrier ...|       null|                null|null|          null|     null|     null|   null|Active|   Corporate|      2|java.util.Gregori...|        null|  null|             null|   null|null|\n",
      "| 11|                 asd|       null|                null|null|          null|     null|     null|   null|Active|   Corporate|      1|java.util.Gregori...|        null|  null|             null|   null|null|\n",
      "| 12|                 tap|       null|                null|null|          null|     null|     null|   null|Active|   Corporate|      2|java.util.Gregori...|        null|  null|             null|   null|null|\n",
      "| 13|              Sushma|       null|                null|null|          null|     null|     null|   null|Active|   Corporate|      1|java.util.Gregori...|        null|  null|             null|   null|null|\n",
      "| 14|       abc transport|       null|                null|null|          null|     null|     null|   null|Active|   Corporate|      2|java.util.Gregori...|        null|  null|             null|   null|null|\n",
      "|  2|            Ezyloads|postgres.in|vikas@postgresind...|null|      postgres|bangalore|karnataka| 576215|Active|   Corporate|      1|java.util.Gregori...|  9535591744|  null|                2|   null|null|\n",
      "| 15|                  ra|       null|                null|null|          null|     null|     null|   null|Active|   Corporate|      1|java.util.Gregori...|        null|  null|             null|   null|null|\n",
      "| 16|        RD Transport|       null|                null|null|          null|     null|     null|   null|Active|   Corporate|      2|java.util.Gregori...|        null|  null|             null|   null|null|\n",
      "| 17|                    |       null|                null|null|          null|     null|     null|   null|Active|   Corporate|      2|java.util.Gregori...|        null|  null|             null|   null|null|\n",
      "| 18|Ezyloads Logistic...|       null|                null|null|          null|     null|     null|   null|Active|   Corporate|      2|java.util.Gregori...|        null|  null|             null|   null|null|\n",
      "| 19|             danajay|       null|                null|null|          null|     null|     null|   null|Active|  Individual|      1|java.util.Gregori...|        null|  null|             null|   null|null|\n",
      "| 20|               veena|       null|                null|null|          null|     null|     null|   null|Active|   Corporate|      1|java.util.Gregori...|        null|  null|             null|   null|null|\n",
      "| 21|                Ragu|       null|                null|null|          null|     null|     null|   null|Active|  Individual|      2|java.util.Gregori...|        null|  null|             null|   null|null|\n",
      "+---+--------------------+-----------+--------------------+----+--------------+---------+---------+-------+------+------------+-------+--------------------+------------+------+-----------------+-------+----+\n",
      "only showing top 20 rows\n",
      "\n"
     ]
    }
   ],
   "source": [
    "df.show()"
   ]
  },
  {
   "cell_type": "code",
   "execution_count": 31,
   "metadata": {
    "collapsed": true
   },
   "outputs": [],
   "source": [
    "df.coalesce(1).write.format(\"com.databricks.spark.csv\").option(\"header\", \"true\").option(\"nullValue\",\" \").save(\"test123.csv\")"
   ]
  },
  {
   "cell_type": "code",
   "execution_count": 32,
   "metadata": {},
   "outputs": [
    {
     "ename": "NameError",
     "evalue": "name 'tf' is not defined",
     "output_type": "error",
     "traceback": [
      "\u001b[0;31m---------------------------------------------------------------------------\u001b[0m",
      "\u001b[0;31mNameError\u001b[0m                                 Traceback (most recent call last)",
      "\u001b[0;32m<ipython-input-32-8e808c976cef>\u001b[0m in \u001b[0;36m<module>\u001b[0;34m()\u001b[0m\n\u001b[0;32m----> 1\u001b[0;31m \u001b[0mtf\u001b[0m\u001b[0;34m.\u001b[0m\u001b[0mcollect\u001b[0m\u001b[0;34m(\u001b[0m\u001b[0;34m)\u001b[0m\u001b[0;34m\u001b[0m\u001b[0m\n\u001b[0m",
      "\u001b[0;31mNameError\u001b[0m: name 'tf' is not defined"
     ]
    }
   ],
   "source": [
    "tf.collect()"
   ]
  },
  {
   "cell_type": "code",
   "execution_count": null,
   "metadata": {
    "collapsed": true
   },
   "outputs": [],
   "source": [
    "nf=tf.groupByKey()"
   ]
  },
  {
   "cell_type": "code",
   "execution_count": null,
   "metadata": {},
   "outputs": [],
   "source": [
    "nf.collect()"
   ]
  },
  {
   "cell_type": "code",
   "execution_count": null,
   "metadata": {
    "collapsed": true
   },
   "outputs": [],
   "source": []
  },
  {
   "cell_type": "code",
   "execution_count": null,
   "metadata": {
    "collapsed": true
   },
   "outputs": [],
   "source": []
  },
  {
   "cell_type": "code",
   "execution_count": null,
   "metadata": {
    "collapsed": true
   },
   "outputs": [],
   "source": [
    "from pyspark.sql import Row"
   ]
  },
  {
   "cell_type": "code",
   "execution_count": null,
   "metadata": {
    "collapsed": true
   },
   "outputs": [],
   "source": [
    "row_data = ts.map(lambda p: Row(id=int(p[0]),company_name=p[1],website=p[2],company_emailid=p[3],logo=(p[4]),street_address=(p[5]),city=(p[6]),state=(p[7]),pincode=(p[8]),status=(p[9]),businesstype=(p[9]),role_id=(p[10]),time_stamp=(p[11]),phone_mobile=(p[12]),branch=(p[13]),master_company_id=(p[14]),pancard=(p[15]),gst=(p[16])))"
   ]
  },
  {
   "cell_type": "code",
   "execution_count": null,
   "metadata": {},
   "outputs": [],
   "source": [
    "df1 = sqlContext.createDataFrame(row_data)"
   ]
  },
  {
   "cell_type": "code",
   "execution_count": null,
   "metadata": {
    "collapsed": true
   },
   "outputs": [],
   "source": []
  }
 ],
 "metadata": {
  "kernelspec": {
   "display_name": "Python 3",
   "language": "python",
   "name": "python3"
  },
  "language_info": {
   "codemirror_mode": {
    "name": "ipython",
    "version": 3
   },
   "file_extension": ".py",
   "mimetype": "text/x-python",
   "name": "python",
   "nbconvert_exporter": "python",
   "pygments_lexer": "ipython3",
   "version": "3.6.3"
  }
 },
 "nbformat": 4,
 "nbformat_minor": 2
}
